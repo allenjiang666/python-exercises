{
 "cells": [
  {
   "cell_type": "markdown",
   "metadata": {},
   "source": [
    "Take the word EASY: Its first three letters — E, A and S — are the fifth, first, and nineteenth letters, respectively, in the alphabet. If you add 5, 1, and 19, you get 25, which is the value of the alphabetical position of Y, the last letter of EASY.\n",
    "\n",
    "Can you think of a common five-letter word that works in the opposite way — in which the value of the alphabetical positions of its last four letters add up to the value of the alphabetical position of its first letter?\n",
    "\n",
    "NPR Sunday Puzzle for 2016-04-03\n",
    "\n",
    "Write some python code to solve the question above. You can find a list of words on your mac at /usr/share/dict/words.\n",
    "\n",
    "To get you started:"
   ]
  },
  {
   "cell_type": "code",
   "execution_count": 23,
   "metadata": {},
   "outputs": [],
   "source": [
    "with open('/usr/share/dict/words') as f:\n",
    "    words = f.read().split('\\n')\n",
    "words_with_5_char = []\n",
    "for word in words:\n",
    "    if len(word) == 5:\n",
    "        words_with_5_char.append(word)\n"
   ]
  },
  {
   "cell_type": "code",
   "execution_count": 28,
   "metadata": {},
   "outputs": [
    {
     "data": {
      "text/plain": [
       "['raffe',\n",
       " 'Sadie',\n",
       " 'sifac',\n",
       " 'table',\n",
       " 'Uchee',\n",
       " 'vakia',\n",
       " 'Vicia',\n",
       " 'wanga',\n",
       " 'whack',\n",
       " 'Xicak',\n",
       " 'yeara',\n",
       " 'zebra']"
      ]
     },
     "execution_count": 28,
     "metadata": {},
     "output_type": "execute_result"
    }
   ],
   "source": [
    "alphabet = 'abcdefghijklmnopqrstuvwxyz'\n",
    "target_word =[]\n",
    "for word in words_with_5_char:\n",
    "    last_four_index_sum = 0\n",
    "    for letter in word[1:]:\n",
    "        last_four_index_sum += (alphabet.index(letter) + 1)\n",
    "    if (alphabet.index(word[0].lower()) + 1) == last_four_index_sum:\n",
    "        target_word.append(word)\n",
    "target_word\n",
    "       \n",
    "    \n",
    "        \n",
    "    \n",
    "    \n",
    "    \n",
    "    "
   ]
  },
  {
   "cell_type": "code",
   "execution_count": null,
   "metadata": {},
   "outputs": [],
   "source": []
  }
 ],
 "metadata": {
  "kernelspec": {
   "display_name": "Python 3",
   "language": "python",
   "name": "python3"
  },
  "language_info": {
   "codemirror_mode": {
    "name": "ipython",
    "version": 3
   },
   "file_extension": ".py",
   "mimetype": "text/x-python",
   "name": "python",
   "nbconvert_exporter": "python",
   "pygments_lexer": "ipython3",
   "version": "3.7.4"
  }
 },
 "nbformat": 4,
 "nbformat_minor": 2
}
