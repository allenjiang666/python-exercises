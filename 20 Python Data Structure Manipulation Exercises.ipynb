{
 "cells": [
  {
   "cell_type": "code",
   "execution_count": 2,
   "metadata": {},
   "outputs": [],
   "source": [
    "students = [\n",
    "    {\n",
    "\"id\": \"100001\",\n",
    "\"student\": \"Ada Lovelace\",\n",
    "\"coffee_preference\": \"light\",\n",
    "\"course\": \"web development\",\n",
    "\"grades\": [70, 91, 82, 71],\n",
    "\"pets\": [{\"species\": \"horse\", \"age\": 8}],\n",
    "    },\n",
    "    {\n",
    "\"id\": \"100002\",\n",
    "\"student\": \"Thomas Bayes\",\n",
    "\"coffee_preference\": \"medium\",\n",
    "\"course\": \"data science\",\n",
    "\"grades\": [75, 73, 86, 100],\n",
    "\"pets\": [],\n",
    "    },\n",
    "    {\n",
    "\"id\": \"100003\",\n",
    "\"student\": \"Marie Curie\",\n",
    "\"coffee_preference\": \"light\",\n",
    "\"course\": \"web development\",\n",
    "\"grades\": [70, 89, 69, 65],\n",
    "\"pets\": [{\"species\": \"cat\", \"age\": 0}],\n",
    "    },\n",
    "    {\n",
    "\"id\": \"100004\",\n",
    "\"student\": \"Grace Hopper\",\n",
    "\"coffee_preference\": \"dark\",\n",
    "\"course\": \"data science\",\n",
    "\"grades\": [73, 66, 83, 92],\n",
    "\"pets\": [{\"species\": \"dog\", \"age\": 4}, {\"species\": \"cat\", \"age\": 4}],\n",
    "    },\n",
    "    {\n",
    "\"id\": \"100005\",\n",
    "\"student\": \"Alan Turing\",\n",
    "\"coffee_preference\": \"dark\",\n",
    "\"course\": \"web development\",\n",
    "\"grades\": [78, 98, 85, 65],\n",
    "\"pets\": [\n",
    "            {\"species\": \"horse\", \"age\": 6},\n",
    "            {\"species\": \"horse\", \"age\": 7},\n",
    "            {\"species\": \"dog\", \"age\": 5},\n",
    "        ],\n",
    "    },\n",
    "    {\n",
    "\"id\": \"100006\",\n",
    "\"student\": \"Rosalind Franklin\",\n",
    "\"coffee_preference\": \"dark\",\n",
    "\"course\": \"data science\",\n",
    "\"grades\": [76, 70, 96, 81],\n",
    "\"pets\": [],\n",
    "    },\n",
    "    {\n",
    "\"id\": \"100007\",\n",
    "\"student\": \"Elizabeth Blackwell\",\n",
    "\"coffee_preference\": \"dark\",\n",
    "\"course\": \"web development\",\n",
    "\"grades\": [69, 94, 89, 86],\n",
    "\"pets\": [{\"species\": \"cat\", \"age\": 10}],\n",
    "    },\n",
    "    {\n",
    "\"id\": \"100008\",\n",
    "\"student\": \"Rene Descartes\",\n",
    "\"coffee_preference\": \"medium\",\n",
    "\"course\": \"data science\",\n",
    "\"grades\": [87, 79, 90, 99],\n",
    "\"pets\": [{\"species\": \"cat\", \"age\": 10}, {\"species\": \"cat\", \"age\": 8}],\n",
    "    },\n",
    "    {\n",
    "\"id\": \"100009\",\n",
    "\"student\": \"Ahmed Zewail\",\n",
    "\"coffee_preference\": \"medium\",\n",
    "\"course\": \"data science\",\n",
    "\"grades\": [74, 99, 93, 89],\n",
    "\"pets\": [{\"species\": \"cat\", \"age\": 0}, {\"species\": \"cat\", \"age\": 0}],\n",
    "    },\n",
    "    {\n",
    "\"id\": \"100010\",\n",
    "\"student\": \"Chien-Shiung Wu\",\n",
    "\"coffee_preference\": \"medium\",\n",
    "\"course\": \"web development\",\n",
    "\"grades\": [82, 92, 91, 65],\n",
    "\"pets\": [{\"species\": \"cat\", \"age\": 8}],\n",
    "    },\n",
    "    {\n",
    "\"id\": \"100011\",\n",
    "\"student\": \"William Sanford Nye\",\n",
    "\"coffee_preference\": \"dark\",\n",
    "\"course\": \"data science\",\n",
    "\"grades\": [70, 92, 65, 99],\n",
    "\"pets\": [{\"species\": \"cat\", \"age\": 8}, {\"species\": \"cat\", \"age\": 5}],\n",
    "    },\n",
    "    {\n",
    "\"id\": \"100012\",\n",
    "\"student\": \"Carl Sagan\",\n",
    "\"coffee_preference\": \"medium\",\n",
    "\"course\": \"data science\",\n",
    "\"grades\": [100, 86, 91, 87],\n",
    "\"pets\": [{\"species\": \"cat\", \"age\": 10}],\n",
    "    },\n",
    "    {\n",
    "\"id\": \"100013\",\n",
    "\"student\": \"Jane Goodall\",\n",
    "\"coffee_preference\": \"light\",\n",
    "\"course\": \"web development\",\n",
    "\"grades\": [80, 70, 68, 98],\n",
    "\"pets\": [{\"species\": \"horse\", \"age\": 4}],\n",
    "    },\n",
    "    {\n",
    "\"id\": \"100014\",\n",
    "\"student\": \"Richard Feynman\",\n",
    "\"coffee_preference\": \"medium\",\n",
    "\"course\": \"web development\",\n",
    "\"grades\": [73, 99, 86, 98],\n",
    "\"pets\": [{\"species\": \"dog\", \"age\": 6}],\n",
    "    },\n",
    "]"
   ]
  },
  {
   "cell_type": "markdown",
   "metadata": {},
   "source": [
    "#How many students are there?\n",
    "How many students prefer light coffee? For each type of coffee roast?\n",
    "How many types of each pet are there?\n",
    "How many grades does each student have? Do they all have the same number of grades?\n",
    "What is each student's grade average?\n",
    "How many pets does each student have?\n",
    "How many students are in web development? data science?\n",
    "What is the average number of pets for students in web development?\n",
    "What is the average pet age for students in data science?\n",
    "What is most frequent coffee preference for data science students?\n",
    "What is the least frequent coffee preference for web development students?\n",
    "What is the average grade for students with at least 2 pets?\n",
    "How many students have 3 pets?\n",
    "What is the average grade for students with 0 pets?\n",
    "What is the average grade for web development students? data science students?\n",
    "What is the average grade range (i.e. highest grade - lowest grade) for dark coffee drinkers?\n",
    "What is the average number of pets for medium coffee drinkers?\n",
    "What is the most common type of pet for web development students?\n",
    "What is the average name length?\n",
    "What is the highest pet age for light coffee drinkers?"
   ]
  },
  {
   "cell_type": "code",
   "execution_count": 3,
   "metadata": {},
   "outputs": [
    {
     "data": {
      "text/plain": [
       "14"
      ]
     },
     "execution_count": 3,
     "metadata": {},
     "output_type": "execute_result"
    }
   ],
   "source": [
    "#How many students are there?\n",
    "len(students)"
   ]
  },
  {
   "cell_type": "code",
   "execution_count": 5,
   "metadata": {},
   "outputs": [
    {
     "data": {
      "text/plain": [
       "3"
      ]
     },
     "execution_count": 5,
     "metadata": {},
     "output_type": "execute_result"
    }
   ],
   "source": [
    "#How many students prefer light coffee? For each type of coffee roast?\n",
    "len([student for student in students if student[\"coffee_preference\"] == \"light\"])"
   ]
  },
  {
   "cell_type": "code",
   "execution_count": 19,
   "metadata": {},
   "outputs": [
    {
     "data": {
      "text/plain": [
       "3"
      ]
     },
     "execution_count": 19,
     "metadata": {},
     "output_type": "execute_result"
    }
   ],
   "source": [
    "#How many types of each pet are there?\n",
    "pets = sum([student[\"pets\"] for student in students],[])\n",
    "len(set([pet[\"species\"] for pet in pets]))"
   ]
  },
  {
   "cell_type": "code",
   "execution_count": 47,
   "metadata": {},
   "outputs": [
    {
     "name": "stdout",
     "output_type": "stream",
     "text": [
      "all the same\n"
     ]
    }
   ],
   "source": [
    "#How many grades does each student have? Do they all have the same number of grades?\n",
    "nums_of_grades = [len(student[\"grades\"]) for student in students]\n",
    "if len(set(nums_of_grades)) == 1:\n",
    "    print(\"all the same\")\n",
    "else:\n",
    "    print(\"different\")"
   ]
  },
  {
   "cell_type": "code",
   "execution_count": 49,
   "metadata": {},
   "outputs": [
    {
     "data": {
      "text/plain": [
       "[78.5,\n",
       " 83.5,\n",
       " 73.25,\n",
       " 78.5,\n",
       " 81.5,\n",
       " 80.75,\n",
       " 84.5,\n",
       " 88.75,\n",
       " 88.75,\n",
       " 82.5,\n",
       " 81.5,\n",
       " 91.0,\n",
       " 79.0,\n",
       " 89.0]"
      ]
     },
     "execution_count": 49,
     "metadata": {},
     "output_type": "execute_result"
    }
   ],
   "source": [
    "#What is each student's grade average?\n",
    "[sum(student[\"grades\"]) / len(student[\"grades\"]) for student in students ]"
   ]
  },
  {
   "cell_type": "code",
   "execution_count": 52,
   "metadata": {},
   "outputs": [
    {
     "data": {
      "text/plain": [
       "[1, 0, 1, 2, 3, 0, 1, 2, 2, 1, 2, 1, 1, 1]"
      ]
     },
     "execution_count": 52,
     "metadata": {},
     "output_type": "execute_result"
    }
   ],
   "source": [
    "#How many pets does each student have?\n",
    "[len(student[\"pets\"]) for student in students]"
   ]
  },
  {
   "cell_type": "code",
   "execution_count": 68,
   "metadata": {},
   "outputs": [
    {
     "name": "stdout",
     "output_type": "stream",
     "text": [
      "7 students in data sicence\n",
      "7 students in web develpment\n"
     ]
    }
   ],
   "source": [
    "#How many students are in web development? data science?\n",
    "num_of_student_in_webdev = len([(student[\"course\"]) for student in students if student[\"course\"] == \"web development\"])\n",
    "num_of_student_in_datsci = len([(student[\"course\"]) for student in students if student[\"course\"] == \"data science\"])\n",
    "print(\"%s students in data sicence\" % num_of_student_in_datsci)\n",
    "print(\"%d students in web develpment\" % num_of_student_in_webdev)\n"
   ]
  },
  {
   "cell_type": "code",
   "execution_count": 75,
   "metadata": {},
   "outputs": [
    {
     "name": "stdout",
     "output_type": "stream",
     "text": [
      "Average number of pets in wed development departmennt is 1.2857142857142858\n"
     ]
    }
   ],
   "source": [
    "#What is the average number of pets for students in web development?\n",
    "num_of_pets = [len(student[\"pets\"]) for student in students if student[\"course\"] == \"web development\"]\n",
    "print(\"Average number of pets in wed development departmennt is %s\" %(sum(num_of_pets) / len(num_of_pets)))"
   ]
  },
  {
   "cell_type": "code",
   "execution_count": 87,
   "metadata": {},
   "outputs": [
    {
     "name": "stdout",
     "output_type": "stream",
     "text": [
      "Average age of pets in wed data science department is 5.444444444444445\n"
     ]
    }
   ],
   "source": [
    "#What is the average pet age for students in data science?\n",
    "pets = [student[\"pets\"] for student in students if len(student[\"pets\"]) > 0 and student[\"course\"] == \"data science\"]\n",
    "age = [pet[0][\"age\"] for pet in pets] + [pet[1][\"age\"] for pet in pets if len(pet) == 2] + [pet[2][\"age\"] for pet in pets if len(pet) == 3]\n",
    "print(\"Average age of pets in wed data science department is %s\" %(sum(age) / len(age)))\n",
    "\n",
    "\n",
    "\n"
   ]
  },
  {
   "cell_type": "code",
   "execution_count": 98,
   "metadata": {},
   "outputs": [
    {
     "data": {
      "text/plain": [
       "[0, 4, 3]"
      ]
     },
     "execution_count": 98,
     "metadata": {},
     "output_type": "execute_result"
    }
   ],
   "source": [
    "#What is most frequent coffee preference for data science students?\n",
    "cof_pre = [student[\"coffee_preference\"] for student in students if student[\"course\"] == \"data science\"]\n",
    "[cof_pre.count(\"light\"), cof_pre.count(\"medium\"), cof_pre.count(\"dark\")]\n"
   ]
  },
  {
   "cell_type": "code",
   "execution_count": 99,
   "metadata": {},
   "outputs": [
    {
     "data": {
      "text/plain": [
       "[3, 2, 2]"
      ]
     },
     "execution_count": 99,
     "metadata": {},
     "output_type": "execute_result"
    }
   ],
   "source": [
    "#What is the least frequent coffee preference for web development students?\n",
    "cof_pre = [student[\"coffee_preference\"] for student in students if student[\"course\"] == \"web development\"]\n",
    "[cof_pre.count(\"light\"), cof_pre.count(\"medium\"), cof_pre.count(\"dark\")]"
   ]
  },
  {
   "cell_type": "code",
   "execution_count": 104,
   "metadata": {},
   "outputs": [
    {
     "data": {
      "text/plain": [
       "83.8"
      ]
     },
     "execution_count": 104,
     "metadata": {},
     "output_type": "execute_result"
    }
   ],
   "source": [
    "#What is the average grade for students with at least 2 pets?\n",
    "avg_of_each_stu = [sum(student[\"grades\"]) / len(student[\"grades\"]) for student in students if len(student[\"pets\"]) > 1]\n",
    "sum(avg_of_each_stu) / len(avg_of_each_stu)"
   ]
  },
  {
   "cell_type": "code",
   "execution_count": 107,
   "metadata": {},
   "outputs": [
    {
     "data": {
      "text/plain": [
       "1"
      ]
     },
     "execution_count": 107,
     "metadata": {},
     "output_type": "execute_result"
    }
   ],
   "source": [
    "#How many students have 3 pets?\n",
    "len([student[\"pets\"] for student in students if len(student[\"pets\"]) == 3])"
   ]
  },
  {
   "cell_type": "code",
   "execution_count": 113,
   "metadata": {},
   "outputs": [
    {
     "data": {
      "text/plain": [
       "82.125"
      ]
     },
     "execution_count": 113,
     "metadata": {},
     "output_type": "execute_result"
    }
   ],
   "source": [
    "#What is the average grade for students with 0 pets?\n",
    "grades_of_stu_with_0_pets =[student[\"grades\"] for student in students if len(student[\"pets\"]) == 0]\n",
    "grades = []\n",
    "for x in grades_of_stu_with_0_pets:\n",
    "    for y in x:\n",
    "        grades.append(y)\n",
    "sum(grades) / len(grades)"
   ]
  },
  {
   "cell_type": "code",
   "execution_count": 11,
   "metadata": {},
   "outputs": [
    {
     "name": "stdout",
     "output_type": "stream",
     "text": [
      "Average grade of web development is 81.17857142857143 ,\n",
      " Average grade of data sciecne is 84\n"
     ]
    }
   ],
   "source": [
    "#What is the average grade for web development students? data science students?\n",
    "avg_grd_of_each_wd = [sum(student[\"grades\"]) / len(student[\"grades\"]) for student in students if student[\"course\"] == \"web development\" ]\n",
    "avg_grd_of_wd = sum(avg_grd_of_each_wd) / len(avg_grd_of_each_wd)\n",
    "avg_grd_of_each_ds = [sum(student[\"grades\"]) / len(student[\"grades\"]) for student in students if student[\"course\"] == \"data science\" ]\n",
    "avg_grd_of_ds = sum(avg_grd_of_each_ds) / len(avg_grd_of_each_ds)\n",
    "print(\"Average grade of web development is %s ,\\n Average grade of data sciecne is %d\" \n",
    "      %(avg_grd_of_wd, avg_grd_of_ds) )"
   ]
  },
  {
   "cell_type": "code",
   "execution_count": 15,
   "metadata": {},
   "outputs": [
    {
     "name": "stdout",
     "output_type": "stream",
     "text": [
      "84.5\n",
      "78.5\n"
     ]
    }
   ],
   "source": [
    "#What is the average grade range (i.e. highest grade - lowest grade) for dark coffee drinkers?\n",
    "avg_grd_of_each_drkcff = [sum(student[\"grades\"]) / len(student[\"grades\"]) for student in students if student[\"coffee_preference\"] == \"dark\" ]\n",
    "print(max(avg_grd_of_each_drkcff))\n",
    "print(min(avg_grd_of_each_drkcff))"
   ]
  },
  {
   "cell_type": "code",
   "execution_count": 19,
   "metadata": {},
   "outputs": [
    {
     "name": "stdout",
     "output_type": "stream",
     "text": [
      "1.1666666666666667\n"
     ]
    }
   ],
   "source": [
    "#What is the average number of pets for medium coffee drinkers?\n",
    "num_of_pets_by_each = [len(student[\"pets\"]) for student in students if student[\"coffee_preference\"] == \"medium\"]\n",
    "avg_num_of_pets_by_medium_coffee_drinkers = sum(num_of_pets_by_each) / len(num_of_pets_by_each)\n",
    "print(avg_num_of_pets_by_medium_coffee_drinkers)"
   ]
  },
  {
   "cell_type": "code",
   "execution_count": 40,
   "metadata": {},
   "outputs": [
    {
     "name": "stdout",
     "output_type": "stream",
     "text": [
      "dog\n",
      "2\n",
      "cat\n",
      "3\n",
      "horse\n",
      "4\n"
     ]
    }
   ],
   "source": [
    "# Flat list very useful\n",
    "#What is the most common type of pet for web development students?\n",
    "pets_with_wd = [student[\"pets\"] for student in students if student[\"course\"] == \"web development\"]\n",
    "pets_flattened = sum(pets_with_wd,[])\n",
    "species =[]\n",
    "for pet in pets_flattened:\n",
    "    species.append(pet[\"species\"])\n",
    "new_species = list(set(species))\n",
    "for pet in new_species:\n",
    "    print(pet)\n",
    "    print(species.count(pet))\n",
    "\n",
    "    \n",
    "\n"
   ]
  },
  {
   "cell_type": "code",
   "execution_count": 44,
   "metadata": {},
   "outputs": [
    {
     "data": {
      "text/plain": [
       "13.642857142857142"
      ]
     },
     "execution_count": 44,
     "metadata": {},
     "output_type": "execute_result"
    }
   ],
   "source": [
    "#What is the average name length?\n",
    "name_len = [len(student[\"student\"]) for student in students]\n",
    "sum(name_len) / len(name_len)"
   ]
  },
  {
   "cell_type": "code",
   "execution_count": 6,
   "metadata": {},
   "outputs": [
    {
     "data": {
      "text/plain": [
       "8"
      ]
     },
     "execution_count": 6,
     "metadata": {},
     "output_type": "execute_result"
    }
   ],
   "source": [
    "#What is the highest pet age for light coffee drinkers?\n",
    "pets_with_lc = [student[\"pets\"] for student in students if student[\"coffee_preference\"] == \"light\"]\n",
    "pets = sum(pets_with_lc,[])\n",
    "max([pet[\"age\"] for pet in pets])\n"
   ]
  },
  {
   "cell_type": "code",
   "execution_count": null,
   "metadata": {},
   "outputs": [],
   "source": []
  }
 ],
 "metadata": {
  "kernelspec": {
   "display_name": "Python 3",
   "language": "python",
   "name": "python3"
  },
  "language_info": {
   "codemirror_mode": {
    "name": "ipython",
    "version": 3
   },
   "file_extension": ".py",
   "mimetype": "text/x-python",
   "name": "python",
   "nbconvert_exporter": "python",
   "pygments_lexer": "ipython3",
   "version": "3.7.4"
  }
 },
 "nbformat": 4,
 "nbformat_minor": 2
}
