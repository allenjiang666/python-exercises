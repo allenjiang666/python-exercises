{
 "cells": [
  {
   "cell_type": "code",
   "execution_count": 21,
   "metadata": {},
   "outputs": [
    {
     "data": {
      "text/plain": [
       "[0, 3]"
      ]
     },
     "execution_count": 21,
     "metadata": {},
     "output_type": "execute_result"
    }
   ],
   "source": [
    "  def twoSum(nums, target):\n",
    "        \"\"\"\n",
    "        :type nums: List[int]\n",
    "        :type target: int\n",
    "        :rtype: List[int]\n",
    "        \"\"\"\n",
    "        for i in range(len(nums)):\n",
    "            for n in range(i+1, len(nums)):\n",
    "                if nums[i] + nums[n] == target:\n",
    "                    return [i, n]\n",
    "                \n",
    "twoSum([2, 7, 11, 15], 17)\n"
   ]
  },
  {
   "cell_type": "code",
   "execution_count": 15,
   "metadata": {},
   "outputs": [
    {
     "data": {
      "text/plain": [
       "3"
      ]
     },
     "execution_count": 15,
     "metadata": {},
     "output_type": "execute_result"
    }
   ],
   "source": [
    "nums = [2, 7, 11, 15]\n",
    "nums.index(15)"
   ]
  },
  {
   "cell_type": "markdown",
   "metadata": {},
   "source": [
    "Given a string, find the length of the longest substring without repeating characters.\n",
    "\n",
    "Example 1:\n",
    "\n",
    "Input: \"abcabcbb\"\n",
    "Output: 3 \n",
    "Explanation: The answer is \"abc\", with the length of 3. "
   ]
  },
  {
   "cell_type": "code",
   "execution_count": 353,
   "metadata": {},
   "outputs": [
    {
     "data": {
      "text/plain": [
       "([0, 3, 1, 1, 2], [0, 0, 1], 2)"
      ]
     },
     "execution_count": 353,
     "metadata": {},
     "output_type": "execute_result"
    }
   ],
   "source": [
    "def lengthOfLongestSubstring(s):\n",
    "    length = [0]\n",
    "    start = [0]\n",
    "    end = len(s) - 1\n",
    "    for i in range(len(s)):\n",
    "        for n in range(i+1, len(s)):\n",
    "            if s[i] == s[n]:\n",
    "                length.append(n - i)\n",
    "                start.append(i) \n",
    "                end = n\n",
    "                break\n",
    "    if length == [0]:\n",
    "        return len(s)           \n",
    "    else:\n",
    "        length.append(start[1] + 1)\n",
    "        length.append(len(s) - end) \n",
    "        return length, start, end\n",
    "    \n",
    "lengthOfLongestSubstring(\"abba\")            \n",
    "        \n",
    "        "
   ]
  },
  {
   "cell_type": "code",
   "execution_count": 322,
   "metadata": {},
   "outputs": [
    {
     "data": {
      "text/plain": [
       "[1, 2, 3, 4]"
      ]
     },
     "execution_count": 322,
     "metadata": {},
     "output_type": "execute_result"
    }
   ],
   "source": [
    "s =  [1, 2, 3]\n",
    "s.append(4)\n",
    "s"
   ]
  },
  {
   "cell_type": "code",
   "execution_count": 234,
   "metadata": {},
   "outputs": [
    {
     "data": {
      "text/plain": [
       "[[8], [1, 4, 6, 7], [2, 5], [0, 3]]"
      ]
     },
     "execution_count": 234,
     "metadata": {},
     "output_type": "execute_result"
    }
   ],
   "source": [
    "def lengthOfLongestSubstring(s):\n",
    "    l = list(set(s)) \n",
    "    lst_1 = []\n",
    "    lst_2 = []\n",
    "    for i in range(len(l)):\n",
    "        lst_1 = []\n",
    "        for n in range(len(s)):\n",
    "            if l[i] == s[n]:\n",
    "                lst_1 += [n]\n",
    "        lst_2.append(lst_1)\n",
    "    return lst_2\n",
    "   \n",
    "lengthOfLongestSubstring(\"abcabcbbd\")"
   ]
  },
  {
   "cell_type": "code",
   "execution_count": 227,
   "metadata": {},
   "outputs": [
    {
     "data": {
      "text/plain": [
       "[1, 2]"
      ]
     },
     "execution_count": 227,
     "metadata": {},
     "output_type": "execute_result"
    }
   ],
   "source": [
    "[1] + [2]\n"
   ]
  },
  {
   "cell_type": "code",
   "execution_count": 8,
   "metadata": {},
   "outputs": [
    {
     "data": {
      "text/plain": [
       "9646324351"
      ]
     },
     "execution_count": 8,
     "metadata": {},
     "output_type": "execute_result"
    }
   ],
   "source": [
    "# For example, two is written as II in Roman numeral, \n",
    "#just two one's added together. Twelve is written as, XII, \n",
    "#which is simply X + II. The number twenty seven is written as XXVII, which is XX + V + II.\n",
    "\n",
    "# Roman numerals are usually written largest to smallest from left to right. \n",
    "#However, the numeral for four is not IIII. Instead, the number four is written as IV. \n",
    "#Because the one is before the five we subtract it making four. \n",
    "#The same principle applies to the number nine, which is written as IX. \n",
    "#There are six instances where subtraction is used:\n",
    "\n",
    "# I can be placed before V (5) and X (10) to make 4 and 9. \n",
    "# X can be placed before L (50) and C (100) to make 40 and 90. \n",
    "# C can be placed before D (500) and M (1000) to make 400 and 900.\n",
    "# Given a roman numeral, convert it to an integer. Input is guaranteed to be within the range from 1 to 3999.\n",
    "def romanToInt(s: str) -> int:\n",
    "        roman = {\"I\": 1, \"V\": 5, \"X\":10, \"L\": 50, \"C\": 100, \"D\": 500, \"M\": 1000}"
   ]
  },
  {
   "cell_type": "code",
   "execution_count": 14,
   "metadata": {},
   "outputs": [],
   "source": [
    "romans = {\"I\": 1, \"V\": 5, \"X\":10, \"L\": 50, \"C\": 100, \"D\": 500, \"M\": 1000}\n",
    "special_cases = {\"IV\": 4, \"IX\": 9, \"XL\": 40, \"XC\": 90, \"CD\": 400, \"CM\": 900}"
   ]
  },
  {
   "cell_type": "code",
   "execution_count": 38,
   "metadata": {},
   "outputs": [
    {
     "data": {
      "text/plain": [
       "[500]"
      ]
     },
     "execution_count": 38,
     "metadata": {},
     "output_type": "execute_result"
    }
   ],
   "source": [
    "# Example 1:\n",
    "\n",
    "# Input: \"III\"\n",
    "# Output: 3\n",
    "#M = 1000, CM = 900, XC = 90 and IV = 4\n",
    "string = 'D'\n",
    "nums = []\n",
    "i = 0\n",
    "while True:\n",
    "    if i == len(string) - 1:\n",
    "        nums.append(romans[string[i]])\n",
    "        break\n",
    "    elif i in range(len(string) -1):\n",
    "        two_letter = string[i]+string[i+1]\n",
    "        if two_letter in special_cases:\n",
    "            nums.append(special_cases[two_letter])\n",
    "            i += 2\n",
    "        else:\n",
    "            nums.append(romans[string[i]])\n",
    "            i += 1 \n",
    "    else:\n",
    "        break\n",
    "\n",
    "nums\n",
    "\n",
    "    \n",
    "    \n",
    "    \n"
   ]
  },
  {
   "cell_type": "code",
   "execution_count": 20,
   "metadata": {},
   "outputs": [
    {
     "ename": "IndexError",
     "evalue": "string index out of range",
     "output_type": "error",
     "traceback": [
      "\u001b[0;31m---------------------------------------------------------------------------\u001b[0m",
      "\u001b[0;31mIndexError\u001b[0m                                Traceback (most recent call last)",
      "\u001b[0;32m<ipython-input-20-f03d2db44d39>\u001b[0m in \u001b[0;36m<module>\u001b[0;34m\u001b[0m\n\u001b[0;32m----> 1\u001b[0;31m \u001b[0mstring\u001b[0m\u001b[0;34m[\u001b[0m\u001b[0;36m8\u001b[0m\u001b[0;34m]\u001b[0m \u001b[0;34m+\u001b[0m \u001b[0mstring\u001b[0m\u001b[0;34m[\u001b[0m\u001b[0;36m1\u001b[0m\u001b[0;34m]\u001b[0m\u001b[0;34m\u001b[0m\u001b[0;34m\u001b[0m\u001b[0m\n\u001b[0m",
      "\u001b[0;31mIndexError\u001b[0m: string index out of range"
     ]
    }
   ],
   "source": [
    "string[8] + string[1]"
   ]
  },
  {
   "cell_type": "code",
   "execution_count": null,
   "metadata": {},
   "outputs": [],
   "source": []
  },
  {
   "cell_type": "code",
   "execution_count": null,
   "metadata": {},
   "outputs": [],
   "source": []
  },
  {
   "cell_type": "code",
   "execution_count": null,
   "metadata": {},
   "outputs": [],
   "source": []
  },
  {
   "cell_type": "code",
   "execution_count": null,
   "metadata": {},
   "outputs": [],
   "source": []
  }
 ],
 "metadata": {
  "kernelspec": {
   "display_name": "Python 3",
   "language": "python",
   "name": "python3"
  },
  "language_info": {
   "codemirror_mode": {
    "name": "ipython",
    "version": 3
   },
   "file_extension": ".py",
   "mimetype": "text/x-python",
   "name": "python",
   "nbconvert_exporter": "python",
   "pygments_lexer": "ipython3",
   "version": "3.7.4"
  }
 },
 "nbformat": 4,
 "nbformat_minor": 2
}
