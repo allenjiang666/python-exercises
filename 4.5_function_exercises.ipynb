{
 "cells": [
  {
   "cell_type": "markdown",
   "metadata": {},
   "source": [
    "Exercises\n",
    "\n",
    "Create a file named 4.5_function_exercises.py for this exercise. After creating each function specified below, write the necessary code in order to test your function.\n",
    "\n",
    "Define a function named is_two. It should accept one input and return True if the passed input is either the number or the string 2, False otherwise.\n",
    "Define a function named is_vowel. It should return True if the passed string is a vowel, False otherwise.\n",
    "Define a function named is_consonant. It should return True if the passed string is a consonant, False otherwise. Use your is_vowel function to accomplish this.\n",
    "Define a function that accepts a string that is a word. The function should capitalize the first letter of the word if the word starts with a consonant.\n",
    "Define a function named calculate_tip. It should accept a tip percentage (a number between 0 and 1) and the bill total, and return the amount to tip.\n",
    "Define a function named apply_discount. It should accept a original price, and a discount percentage, and return the price after the discount is applied.\n",
    "Define a function named handle_commas. It should accept a string that is a number that contains commas in it as input, and return a number as output.\n",
    "Define a function named get_letter_grade. It should accept a number and return the letter grade associated with that number (A-F).\n",
    "Define a function named remove_vowels that accepts a string and returns a string with all the vowels removed.\n",
    "Define a function named normalize_name. It should accept a string and return a valid python identifier, that is:\n",
    "anything that is not a valid python identifier should be removed\n",
    "leading and trailing whitespace should be removed\n",
    "everything should be lowercase\n",
    "spaces should be replaced with underscores\n",
    "for example:\n",
    "Name will become name\n",
    "First Name will become first_name\n",
    "% Completed will become completed\n",
    "Write a function named cumsum that accepts a list of numbers and returns a list that is the cumulative sum of the numbers in the list.\n",
    "cumsum([1, 1, 1]) returns [1, 2, 3]\n",
    "cumsum([1, 2, 3, 4]) returns [1, 3, 6, 10]\n",
    "Bonus\n",
    "\n",
    "Create a function named twelveto24. It should accept a string in the format 10:45am or 4:30pm and return a string that is the representation of the time in a 24-hour format. \n",
    "Bonus write a function that does the opposite.\n",
    "Create a function named col_index. It should accept a spreadsheet column name, and return the index number of the column.\n",
    "col_index('A') returns 1\n",
    "col_index('B') returns 2\n",
    "col_index('AA') returns 27"
   ]
  },
  {
   "cell_type": "code",
   "execution_count": 2,
   "metadata": {},
   "outputs": [
    {
     "data": {
      "text/plain": [
       "False"
      ]
     },
     "execution_count": 2,
     "metadata": {},
     "output_type": "execute_result"
    }
   ],
   "source": [
    "# Define a function named is_two. It should accept one input and return True \n",
    "#if the passed input is either the number or the string 2, False otherwise.\n",
    "def is_two(a):\n",
    "    return str(a) == \"2\"\n",
    "\n",
    "is_two(3)    "
   ]
  },
  {
   "cell_type": "code",
   "execution_count": 6,
   "metadata": {},
   "outputs": [
    {
     "data": {
      "text/plain": [
       "True"
      ]
     },
     "execution_count": 6,
     "metadata": {},
     "output_type": "execute_result"
    }
   ],
   "source": [
    "# Define a function named is_vowel. \n",
    "#It should return True if the passed string is a vowel, False otherwise.\n",
    "def is_vowel(string):\n",
    "    return string.lower() in \"aeiou\"\n",
    "\n",
    "is_vowel(\"U\")"
   ]
  },
  {
   "cell_type": "code",
   "execution_count": 9,
   "metadata": {},
   "outputs": [
    {
     "data": {
      "text/plain": [
       "True"
      ]
     },
     "execution_count": 9,
     "metadata": {},
     "output_type": "execute_result"
    }
   ],
   "source": [
    "#Define a function named is_consonant. \n",
    "#It should return True if the passed string is a consonant, False otherwise. \n",
    "#Use your is_vowel function to accomplish this.\n",
    "def is_consonant(string):\n",
    "    return not is_vowel(string)\n",
    "\n",
    "is_consonant(\"c\")"
   ]
  },
  {
   "cell_type": "code",
   "execution_count": 11,
   "metadata": {},
   "outputs": [
    {
     "data": {
      "text/plain": [
       "'aloha'"
      ]
     },
     "execution_count": 11,
     "metadata": {},
     "output_type": "execute_result"
    }
   ],
   "source": [
    "#Define a function that accepts a string that is a word. \n",
    "#The function should capitalize the first letter of the word if the word starts with a consonant.\n",
    "def cap_word_begin_with_consonant(word):\n",
    "    if is_consonant(word[0]):\n",
    "        return word.capitalize()\n",
    "    return word\n",
    "\n",
    "cap_word_begin_with_consonant(\"aloha\")"
   ]
  },
  {
   "cell_type": "code",
   "execution_count": 13,
   "metadata": {},
   "outputs": [
    {
     "data": {
      "text/plain": [
       "15.0"
      ]
     },
     "execution_count": 13,
     "metadata": {},
     "output_type": "execute_result"
    }
   ],
   "source": [
    "#Define a function named calculate_tip. \n",
    "#It should accept a tip percentage (a number between 0 and 1) and the bill total, \n",
    "#and return the amount to tip.\n",
    "def calculate_tip(tip_percentage, bill_total):\n",
    "    return tip_percentage * 0.01 * bill_total\n",
    "\n",
    "calculate_tip(15,100)"
   ]
  },
  {
   "cell_type": "code",
   "execution_count": 14,
   "metadata": {},
   "outputs": [
    {
     "data": {
      "text/plain": [
       "70.0"
      ]
     },
     "execution_count": 14,
     "metadata": {},
     "output_type": "execute_result"
    }
   ],
   "source": [
    "#Define a function named apply_discount. \n",
    "#It should accept a original price, and a discount percentage, \n",
    "#and return the price after the discount is applied.\n",
    "def apply_discount(price, discount):\n",
    "    return price * (100 - discount) * 0.01\n",
    "apply_discount(100, 30)"
   ]
  },
  {
   "cell_type": "code",
   "execution_count": 27,
   "metadata": {},
   "outputs": [
    {
     "data": {
      "text/plain": [
       "'123456.789'"
      ]
     },
     "execution_count": 27,
     "metadata": {},
     "output_type": "execute_result"
    }
   ],
   "source": [
    "#Define a function named handle_commas. \n",
    "#It should accept a string that is a number that contains commas in it as input, \n",
    "#and return a number as output.\n",
    "def handle_commas(string):\n",
    "    new_string = \"\"\n",
    "    for letter in string:\n",
    "        if letter == \",\":\n",
    "            continue\n",
    "        new_string = new_string + letter\n",
    "    return new_string                  # string.replace(\",\", \"\")\n",
    "handle_commas(\"123,456.789\")"
   ]
  },
  {
   "cell_type": "code",
   "execution_count": 30,
   "metadata": {},
   "outputs": [
    {
     "data": {
      "text/plain": [
       "'A'"
      ]
     },
     "execution_count": 30,
     "metadata": {},
     "output_type": "execute_result"
    }
   ],
   "source": [
    "#Define a function named get_letter_grade. \n",
    "#It should accept a number \n",
    "#and return the letter grade associated with that number (A-F).\n",
    "def get_letter_grade(num):\n",
    "    if num >= 90:\n",
    "        return \"A\"\n",
    "    elif num >= 80:\n",
    "        return \"B\"\n",
    "    elif num >= 70:\n",
    "        return \"C\"\n",
    "    elif num >= 60:\n",
    "        return \"D\"\n",
    "    else:\n",
    "        return \"F\"\n",
    "get_letter_grade(90)"
   ]
  },
  {
   "cell_type": "code",
   "execution_count": 37,
   "metadata": {},
   "outputs": [
    {
     "data": {
      "text/plain": [
       "'Gd Mrnng'"
      ]
     },
     "execution_count": 37,
     "metadata": {},
     "output_type": "execute_result"
    }
   ],
   "source": [
    "#Define a function named remove_vowels \n",
    "#that accepts a string and returns a string with all the vowels removed.\n",
    "def remove_vowels(string):\n",
    "    new_string = ''\n",
    "    for letter in string:\n",
    "        if is_vowel(letter):\n",
    "            continue\n",
    "        new_string += letter\n",
    "    return new_string\n",
    "remove_vowels(\"Good Morning\")"
   ]
  },
  {
   "cell_type": "code",
   "execution_count": 53,
   "metadata": {},
   "outputs": [
    {
     "data": {
      "text/plain": [
       "'aaf_bc_d'"
      ]
     },
     "execution_count": 53,
     "metadata": {},
     "output_type": "execute_result"
    }
   ],
   "source": [
    "#Define a function named normalize_name. \n",
    "#It should accept a string and return a valid python identifier, that is:\n",
    "    #anything that is not a valid python identifier should be removed\n",
    "    #leading and trailing whitespace should be removed\n",
    "    # everything should be lowercase\n",
    "    # spaces should be replaced with underscores\n",
    "# for example:\n",
    "# Name will become name\n",
    "# First Name will become first_name\n",
    "# % Completed will become completed\n",
    "def normalize_name(string):\n",
    "    return string.lstrip().rstrip().lower().replace(' ', '_')\n",
    "    \n",
    "\n",
    "normalize_name('   aAF bc d     ')\n",
    "            \n",
    "    \n",
    "        \n",
    "        \n",
    "    "
   ]
  },
  {
   "cell_type": "code",
   "execution_count": 45,
   "metadata": {},
   "outputs": [
    {
     "data": {
      "text/plain": [
       "[1, 2, 3, 4]"
      ]
     },
     "execution_count": 45,
     "metadata": {},
     "output_type": "execute_result"
    }
   ],
   "source": [
    "#Write a function named cumsum that accepts a list of numbers \n",
    "#and returns a list that is the cumulative sum of the numbers in the list.\n",
    "    #cumsum([1, 1, 1]) returns [1, 2, 3]\n",
    "    #cumsum([1, 2, 3, 4]) returns [1, 3, 6, 10]\n",
    "def cumsum(lst):\n",
    "    new_lst = []\n",
    "    cumsum = 0\n",
    "    for n in lst:\n",
    "        cumsum += n\n",
    "        new_lst.append(cumsum)\n",
    "    return new_lst\n",
    "cumsum([1, 1, 1, 1])"
   ]
  },
  {
   "cell_type": "code",
   "execution_count": 21,
   "metadata": {},
   "outputs": [
    {
     "data": {
      "text/plain": [
       "'16:30'"
      ]
     },
     "execution_count": 21,
     "metadata": {},
     "output_type": "execute_result"
    }
   ],
   "source": [
    "#Create a function named twelveto24. \n",
    "#It should accept a string in the format 10:45am or 4:30pm \n",
    "#and return a string that is the representation of the time in a 24-hour format. \n",
    "#Bonus write a function that does the opposite.\n",
    "def twelveto24(string):\n",
    "    time = string.split(\":\")\n",
    "    hour = time[0]\n",
    "    minute = time[1]\n",
    "    if string[-2] == \"p\":\n",
    "        new_hour = str(int(hour) + 12)\n",
    "    else:\n",
    "        new_hour = hour  \n",
    "    new_minute = minute[:2]\n",
    "    new_time = new_hour + \":\" + new_minute\n",
    "    return  new_time\n",
    "        \n",
    "twelveto24(\"4:30pm\")        \n",
    "        "
   ]
  },
  {
   "cell_type": "code",
   "execution_count": 18,
   "metadata": {},
   "outputs": [
    {
     "data": {
      "text/plain": [
       "'16:30'"
      ]
     },
     "execution_count": 18,
     "metadata": {},
     "output_type": "execute_result"
    }
   ],
   "source": [
    "string = \"4:30pm\"\n",
    "time = string.split(\":\")\n",
    "hour = time[0]\n",
    "new_hour = str(int(hour) + 12)\n",
    "minute = time[1]\n",
    "new_minute = minute[:2]\n",
    "new_time = new_hour + \":\" + new_minute\n",
    "new_time"
   ]
  },
  {
   "cell_type": "code",
   "execution_count": 81,
   "metadata": {},
   "outputs": [
    {
     "data": {
      "text/plain": [
       "703"
      ]
     },
     "execution_count": 81,
     "metadata": {},
     "output_type": "execute_result"
    }
   ],
   "source": [
    "#Create a function named col_index. \n",
    "#It should accept a spreadsheet column name, \n",
    "#and return the index number of the column.\n",
    "    #col_index('A') returns 1\n",
    "    #col_index('B') returns 2\n",
    "    #col_index('AA') returns 27\n",
    "def col_index(column_name):\n",
    "    alphabet = \"abcdefghijklmnopqrstuvwxyz\"\n",
    "    column_index = []\n",
    "    for letter in column_name[:]:\n",
    "        for alpha in alphabet:\n",
    "            if alpha == letter.lower():\n",
    "                column_index.append(alphabet.index(alpha) + 1)\n",
    "    column_index = column_index[::-1]\n",
    "    index = 0\n",
    "    for i in range(len(column_index)):\n",
    "        index += column_index[i] * 26 ** i\n",
    "    return index\n",
    "col_index(\"aaa\")"
   ]
  },
  {
   "cell_type": "code",
   "execution_count": null,
   "metadata": {},
   "outputs": [],
   "source": []
  },
  {
   "cell_type": "code",
   "execution_count": null,
   "metadata": {},
   "outputs": [],
   "source": []
  },
  {
   "cell_type": "code",
   "execution_count": null,
   "metadata": {},
   "outputs": [],
   "source": []
  },
  {
   "cell_type": "code",
   "execution_count": null,
   "metadata": {},
   "outputs": [],
   "source": []
  },
  {
   "cell_type": "code",
   "execution_count": null,
   "metadata": {},
   "outputs": [],
   "source": []
  }
 ],
 "metadata": {
  "kernelspec": {
   "display_name": "Python 3",
   "language": "python",
   "name": "python3"
  },
  "language_info": {
   "codemirror_mode": {
    "name": "ipython",
    "version": 3
   },
   "file_extension": ".py",
   "mimetype": "text/x-python",
   "name": "python",
   "nbconvert_exporter": "python",
   "pygments_lexer": "ipython3",
   "version": "3.7.4"
  }
 },
 "nbformat": 4,
 "nbformat_minor": 2
}
