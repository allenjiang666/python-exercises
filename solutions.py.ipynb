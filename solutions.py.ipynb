{
 "cells": [
  {
   "cell_type": "code",
   "execution_count": 40,
   "metadata": {},
   "outputs": [
    {
     "data": {
      "text/plain": [
       "True"
      ]
     },
     "execution_count": 40,
     "metadata": {},
     "output_type": "execute_result"
    }
   ],
   "source": [
    "#Write a function named isnegative. \n",
    "#It should accept a number \n",
    "#and return a boolean value based on whether the input is negative.\n",
    "def isnegative(num):\n",
    "    return num < 0\n",
    "\n"
   ]
  },
  {
   "cell_type": "code",
   "execution_count": 41,
   "metadata": {},
   "outputs": [
    {
     "data": {
      "text/plain": [
       "5"
      ]
     },
     "execution_count": 41,
     "metadata": {},
     "output_type": "execute_result"
    }
   ],
   "source": [
    "#Write a function named count_evens. \n",
    "#It should accept a list \n",
    "#and return the number of even numbers in the list.\n",
    "def count_evens(nums):\n",
    "    even_nums = 0\n",
    "    for num in nums:\n",
    "        if num % 2 == 0:\n",
    "            even_nums +=1\n",
    "    return even_nums\n",
    "\n"
   ]
  },
  {
   "cell_type": "code",
   "execution_count": 42,
   "metadata": {},
   "outputs": [
    {
     "data": {
      "text/plain": [
       "[2, 2, 2, 4, 6]"
      ]
     },
     "execution_count": 42,
     "metadata": {},
     "output_type": "execute_result"
    }
   ],
   "source": [
    "#Write a function named increment_odds. \n",
    "#It should accept a list of numbers \n",
    "#and return a new list with the odd numbers from the original list incremented.\n",
    "def increment_odds(nums):\n",
    "    odd_nums = []\n",
    "    for num in nums:\n",
    "        if num % 2 !=0:\n",
    "            odd_nums.append(num + 1)\n",
    "        else:\n",
    "            odd_nums.append(num)\n",
    "    return odd_nums\n"
   ]
  },
  {
   "cell_type": "code",
   "execution_count": 21,
   "metadata": {},
   "outputs": [
    {
     "data": {
      "text/plain": [
       "1.5"
      ]
     },
     "execution_count": 21,
     "metadata": {},
     "output_type": "execute_result"
    }
   ],
   "source": [
    "#Write a function named average. \n",
    "#It should accept a list of numbers \n",
    "#and return the mean of the numbers.\n",
    "def average(nums):\n",
    "    return sum(nums) / len(nums)\n",
    "\n",
    "average([1, 2])"
   ]
  },
  {
   "cell_type": "code",
   "execution_count": 28,
   "metadata": {},
   "outputs": [
    {
     "data": {
      "text/plain": [
       "[{'first_name': 'Ada', 'last_name': 'Lovelace'},\n",
       " {'first_name': 'Marie', 'last_name': 'Curie'}]"
      ]
     },
     "execution_count": 28,
     "metadata": {},
     "output_type": "execute_result"
    }
   ],
   "source": [
    "#Write a function named capitalize_names. \n",
    "#It should accept a list of dictionaries \n",
    "#where each dictionary represents a person \n",
    "#and has keys first_name and last_name. \n",
    "#It should return a list of dictionaries with each person's name capitalized.\n",
    "def capitalize_names(names):\n",
    "    for name in names:\n",
    "        name[\"first_name\"] = name[\"first_name\"].capitalize()\n",
    "        name[\"last_name\"] = name[\"last_name\"].capitalize()\n",
    "    return names\n"
   ]
  },
  {
   "cell_type": "code",
   "execution_count": 43,
   "metadata": {},
   "outputs": [
    {
     "data": {
      "text/plain": [
       "2"
      ]
     },
     "execution_count": 43,
     "metadata": {},
     "output_type": "execute_result"
    }
   ],
   "source": [
    "#Write a function named count_vowels. \n",
    "#It should accept a word \n",
    "#and return a number that is the number of vowels in the given word. \n",
    "#\"y\" should not count as a vowel.\n",
    "def count_vowels(word):\n",
    "    n = 0\n",
    "    for letter in word:\n",
    "        if letter.lower() in \"aeiou\":\n",
    "            n += 1\n",
    "    return n\n"
   ]
  },
  {
   "cell_type": "code",
   "execution_count": 38,
   "metadata": {},
   "outputs": [
    {
     "data": {
      "text/plain": [
       "{'word': 'why', 'n_letters': 3, 'n_vowels': 0}"
      ]
     },
     "execution_count": 38,
     "metadata": {},
     "output_type": "execute_result"
    }
   ],
   "source": [
    "#Write a function named analyze_word. \n",
    "#It should accept a string that is a word \n",
    "#and return a dictionary with information about the word: \n",
    "#the total number of characters in the word, the original word, and the number of vowels in the word.\n",
    "def analyze_word(word):\n",
    "    a = word\n",
    "    b = 0\n",
    "    c = 0\n",
    "    for letter in word:\n",
    "        b += 1\n",
    "        if letter.lower() in \"aeiou\":\n",
    "            c += 1\n",
    "    word_info = {'word': a, 'n_letters': b, 'n_vowels': c}\n",
    "    return word_info\n",
    "\n"
   ]
  },
  {
   "cell_type": "code",
   "execution_count": 46,
   "metadata": {},
   "outputs": [
    {
     "data": {
      "text/plain": [
       "{'first_name': 'Ada', 'last_name': 'Lovelace'}"
      ]
     },
     "execution_count": 46,
     "metadata": {},
     "output_type": "execute_result"
    }
   ],
   "source": [
    "#Create a function named name_to_dict. \n",
    "#It should accept a string that is a first name and last name separated by a space, \n",
    "#and return a dictionary with first_name and last_name keys.\n",
    "def name_to_dict(name):\n",
    "    name_in_list = name.split()\n",
    "    name_in_dict = dict([('first_name',name_in_list[0] ), ('last_name', name_in_list[1])]) \n",
    "    return name_in_dict\n",
    "name_to_dict('Ada Lovelace')"
   ]
  },
  {
   "cell_type": "code",
   "execution_count": 44,
   "metadata": {},
   "outputs": [
    {
     "data": {
      "text/plain": [
       "['han', 'memei']"
      ]
     },
     "execution_count": 44,
     "metadata": {},
     "output_type": "execute_result"
    }
   ],
   "source": [
    "s = \"han memei\"\n",
    "s.split()"
   ]
  },
  {
   "cell_type": "code",
   "execution_count": null,
   "metadata": {},
   "outputs": [],
   "source": []
  }
 ],
 "metadata": {
  "kernelspec": {
   "display_name": "Python 3",
   "language": "python",
   "name": "python3"
  },
  "language_info": {
   "codemirror_mode": {
    "name": "ipython",
    "version": 3
   },
   "file_extension": ".py",
   "mimetype": "text/x-python",
   "name": "python",
   "nbconvert_exporter": "python",
   "pygments_lexer": "ipython3",
   "version": "3.7.4"
  }
 },
 "nbformat": 4,
 "nbformat_minor": 2
}
