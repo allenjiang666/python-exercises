{
 "cells": [
  {
   "cell_type": "markdown",
   "metadata": {},
   "source": [
    "# Make sure your promot gets what exactly you want\n"
   ]
  },
  {
   "cell_type": "markdown",
   "metadata": {},
   "source": [
    "# Conditional Basics\n",
    "\n",
    "prompt the user for a day of the week, print out whether the day is a weekday or a weekend\n",
    "\n",
    "create variables and make up values for\n",
    "\n",
    "the number of hours worked in one week\n",
    "the hourly rate\n",
    "    how much the week's paycheck will be\n",
    "write the python code that calculates the weekly paycheck. You get paid time and a half if you work more than 40 hours"
   ]
  },
  {
   "cell_type": "code",
   "execution_count": null,
   "metadata": {},
   "outputs": [],
   "source": [
    "#     prompt the user for a day of the week, print out whether the day is Monday or not\n",
    "day = input(\"what day is it? \")\n",
    "if day == \"Monday\":\n",
    "    print(\"Yes, it's Monday\")\n",
    "else:\n",
    "    print(\"NO, it's not Monday\")"
   ]
  },
  {
   "cell_type": "code",
   "execution_count": null,
   "metadata": {},
   "outputs": [],
   "source": [
    "#     prompt the user for a day of the week, print out whether the day is a weekday or a weekend\n",
    "day = input(\"What day is it \")\n",
    "if day in [\"Monday\", \"Tuesday\", \"Wednesday\", \"Thursday\", \"Friday\"]:\n",
    "    print(\"It's a weekday\")\n",
    "elif day in [\"Saturday\", \"Sunday\"]:\n",
    "    print(\"It's a weekend\")\n",
    "else:\n",
    "    print(\"Invalid input!\")"
   ]
  },
  {
   "cell_type": "code",
   "execution_count": null,
   "metadata": {
    "scrolled": true
   },
   "outputs": [],
   "source": [
    "#create variables and make up values for\n",
    "\n",
    "#     the number of hours worked in one week\n",
    "#     the hourly rate\n",
    "#     how much the week's paycheck will be\n",
    "#write the python code that calculates the weekly paycheck. You get paid time and a half if you work more than 40 hours\n",
    "hours =  int(input(\"your working hours:\"))\n",
    "hourly_rate = 10\n",
    "weekly_paycheck = 0\n",
    "\n",
    "if hours <= 40:\n",
    "    weekly_paycheck = hours * hourly_rate\n",
    "else:\n",
    "    weekly_paycheck = 40 * hourly_rate + (hours - 40) * 1.5 * hourly_rate\n",
    "print(weekly_paycheck)\n",
    "\n",
    "\n"
   ]
  },
  {
   "cell_type": "markdown",
   "metadata": {},
   "source": [
    "## Loop Basics\n",
    "While\n",
    "\n",
    "Create an integer variable i with a value of 5.\n",
    "Create a while loop that runs so long as i is less than or equal to 15\n",
    "Each loop iteration, output the current value of i, then increment i by one."
   ]
  },
  {
   "cell_type": "code",
   "execution_count": null,
   "metadata": {
    "scrolled": true
   },
   "outputs": [],
   "source": [
    "i = 5\n",
    "while i <= 15:\n",
    "    print(i)\n",
    "    i += 1"
   ]
  },
  {
   "cell_type": "markdown",
   "metadata": {},
   "source": [
    "# \n",
    "Create a while loop that will count by 2's starting with 0 and ending at 100. Follow each number with a new line.\n",
    "Alter your loop to count backwards by 5's from 100 to -10.\n",
    "Create a while loop that starts at 2, and displays the number squared on each line while the number is less than 1,000,000. Output should equal:"
   ]
  },
  {
   "cell_type": "code",
   "execution_count": null,
   "metadata": {},
   "outputs": [],
   "source": [
    "#Create a while loop that will count by 2's starting with 0 and ending at 100. Follow each number with a new line.\n",
    "i = 0\n",
    "while i <= 100:\n",
    "    print(i)\n",
    "    i += 2"
   ]
  },
  {
   "cell_type": "code",
   "execution_count": null,
   "metadata": {},
   "outputs": [],
   "source": [
    "#Alter your loop to count backwards by 5's from 100 to -10.\n",
    "i = 100 \n",
    "while i >= -10:\n",
    "    print(i)\n",
    "    i -= 5\n",
    "    "
   ]
  },
  {
   "cell_type": "code",
   "execution_count": null,
   "metadata": {},
   "outputs": [],
   "source": [
    "#Create a while loop that starts at 2, \n",
    "#and displays the number squared on each line while the number is less than 1,000,000. Output should equal:\n",
    "i = 2\n",
    "while i < 1000000:#1_0 00_000\n",
    "    print(i)\n",
    "    i = i ** 2 # i *=i"
   ]
  },
  {
   "cell_type": "code",
   "execution_count": null,
   "metadata": {
    "scrolled": true
   },
   "outputs": [],
   "source": [
    "#Write a loop that uses print to create the output shown below.\n",
    "i = 100\n",
    "while i >= 5:\n",
    "    print(i)\n",
    "    i -= 5"
   ]
  },
  {
   "cell_type": "code",
   "execution_count": null,
   "metadata": {},
   "outputs": [],
   "source": [
    "#Write some code that prompts the user for a number, then shows a multiplication table up through 10 for that number.\n",
    "num = int(input(\"Input a number: \"))\n",
    "for n in range(1,11):\n",
    "    product = n * num\n",
    "    print(str(num), \"x\", str(n), \"=\", str(product) )"
   ]
  },
  {
   "cell_type": "code",
   "execution_count": null,
   "metadata": {},
   "outputs": [],
   "source": [
    "#Create a for loop that uses print to create the output shown below\n",
    "for n in range(1,10):\n",
    "    num = str(n) * n\n",
    "    print(num)\n",
    "    "
   ]
  },
  {
   "cell_type": "markdown",
   "metadata": {},
   "source": [
    "#break and continue\n",
    "Prompt the user for an odd number between 1 and 50. Use a loop and a break statement to continue prompting the user if they enter invalid input. (Hint: use the isdigit method on strings to determine this). "
   ]
  },
  {
   "cell_type": "code",
   "execution_count": null,
   "metadata": {},
   "outputs": [],
   "source": [
    "def is_even(num):\n",
    "    return num % 2 == 0\n",
    "num = input(\"Please input a number: \")\n",
    "while num.isdigit() == False or is_even(int(num)) or (int(num) >= 50 or int(num) < 0):\n",
    "    num = input(\"Please input a number: \")\n",
    "    \n",
    "        \n",
    "    \n",
    "\n",
    "\n"
   ]
  },
  {
   "cell_type": "markdown",
   "metadata": {},
   "source": [
    "#\n",
    "Use a loop and the continue statement to output all the odd numbers between 1 and 50, except for the number the user entered."
   ]
  },
  {
   "cell_type": "code",
   "execution_count": null,
   "metadata": {},
   "outputs": [],
   "source": [
    "num = int(input(\"Number to skip is: \"))\n",
    "i = -1\n",
    "while i < 49:\n",
    "    i += 2\n",
    "    if i == num:\n",
    "        print(\"Here is number you skipped:\", str(i))\n",
    "        continue\n",
    "    print(\"Here is an odd number:\", str(i))\n",
    "    \n",
    "    \n",
    "       "
   ]
  },
  {
   "cell_type": "markdown",
   "metadata": {},
   "source": [
    "#\n",
    "The input function can be used to prompt for input and use that input in your python code. Prompt the user to enter a positive number and write a loop that counts from 0 to that number. (Hints: first make sure that the value the user entered is a valid number, also note that the input function returns a string, so you'll need to convert this to a numeric type.)"
   ]
  },
  {
   "cell_type": "code",
   "execution_count": null,
   "metadata": {
    "scrolled": false
   },
   "outputs": [],
   "source": [
    "num = int(input(\"Please input a positive number: \"))\n",
    "while num < 0:\n",
    "    num = int(input(\"Please input a positive number: \"))\n",
    "for x in range(num+1):\n",
    "     print(x)"
   ]
  },
  {
   "cell_type": "markdown",
   "metadata": {},
   "source": [
    "#\n",
    "Write a program that prompts the user for a positive integer. \n",
    "Next write a loop that prints out the numbers from the number the user entered down to 1."
   ]
  },
  {
   "cell_type": "code",
   "execution_count": null,
   "metadata": {},
   "outputs": [],
   "source": [
    "num = int(input(\"Please input a positive interger: \"))\n",
    "while num < 0:\n",
    "    num = int(input(\"Please input a positive interger: \"))\n",
    "    \n",
    "while num >= 0:\n",
    "    print(num)\n",
    "    num -= 1\n"
   ]
  },
  {
   "cell_type": "markdown",
   "metadata": {},
   "source": [
    "##### One of the most common interview questions for entry-level programmers is the FizzBuzz test. Developed by Imran Ghory, the test is designed to test basic looping and conditional logic skills.\n",
    "\n",
    "Write a program that prints the numbers from 1 to 100.\n",
    "For multiples of three print \"Fizz\" instead of the number\n",
    "For the multiples of five print \"Buzz\".\n",
    "For numbers which are multiples of both three and five print \"FizzBuzz\"."
   ]
  },
  {
   "cell_type": "code",
   "execution_count": null,
   "metadata": {},
   "outputs": [],
   "source": [
    "for n in range(1,101):\n",
    "    if n % 3 == 0 and n % 5 != 0 :\n",
    "        print(\"Fizz\")\n",
    "    elif n % 5 == 0 and n % 3 != 0:\n",
    "        print(\"Buzz\")\n",
    "    elif n % 15 == 0:\n",
    "        print(\"FizzBuzz\")\n",
    "    else:\n",
    "        print(n)"
   ]
  },
  {
   "cell_type": "markdown",
   "metadata": {},
   "source": [
    "#\n",
    "Display a table of powers.\n",
    "\n",
    "Prompt the user to enter an integer.\n",
    "Display a table of squares and cubes from 1 to the value entered.\n",
    "Ask if the user wants to continue.\n",
    "Assume that the user will enter valid data.\n",
    "Only continue if the user agrees to."
   ]
  },
  {
   "cell_type": "code",
   "execution_count": null,
   "metadata": {},
   "outputs": [],
   "source": [
    "num = int(input(\"What number would you like to go up to? \"))\n",
    "print(\"\\nHere is your table!\\n\")\n",
    "print(\"number | squared | cubed\\n------ | ------- | -----\")\n",
    "for x in range(1,num + 1):\n",
    "    print(str(x).ljust(6), \"|\", str(x**2).ljust(7), \"|\", str(x**3))\n"
   ]
  },
  {
   "cell_type": "markdown",
   "metadata": {},
   "source": [
    "#\n",
    "Convert given number grades into letter grades.\n",
    "\n",
    "Prompt the user for a numerical grade from 0 to 100.\n",
    "Display the corresponding letter grade.\n",
    "Prompt the user to continue.\n",
    "Assume that the user will enter valid integers for the grades.\n",
    "The application should only continue if the user agrees to.\n",
    "Grade Ranges:\n",
    "\n",
    "A : 100 - 88\n",
    "B : 87 - 80\n",
    "C : 79 - 67\n",
    "D : 66 - 60\n",
    "F : 59 - 0"
   ]
  },
  {
   "cell_type": "code",
   "execution_count": null,
   "metadata": {},
   "outputs": [],
   "source": [
    "continuation = \"Y\"\n",
    "while continuation == \"Y\":\n",
    "    num = input(\"Please type in your grade: \")\n",
    "    while not (num.isdigit() and int(num) > 0 and int(num) < 100): # Sequence of the condtion also matters\n",
    "        num = int(input(\"Please type in your grade: \"))\n",
    "    num = int(num)\n",
    "    if num in range(0, 60):\n",
    "        print(\"F\")\n",
    "    elif num in range(60, 67):\n",
    "        print(\"D\")\n",
    "    elif num in range(67, 80):\n",
    "        print(\"C\")\n",
    "    elif num in range(80, 88):\n",
    "        print(\"B\")\n",
    "    else:\n",
    "        print(\"A\")\n",
    "    continuation = input(\"Do you wish to enter another grade, Y or N ?\")\n"
   ]
  },
  {
   "cell_type": "markdown",
   "metadata": {},
   "source": [
    "#\n",
    "Create a list of dictionaries where each dictionary represents a book that you have read. Each dictionary in the list should have the keys title, author, and genre. Loop through the list and print out information about each book.\n",
    "\n",
    "Prompt the user to enter a genre, then loop through your books list and print out the titles of all the books in that genre."
   ]
  },
  {
   "cell_type": "code",
   "execution_count": null,
   "metadata": {
    "scrolled": true
   },
   "outputs": [],
   "source": [
    "books = []\n",
    "while input(\"Adding a new book, Y or N\") == \"Y\":\n",
    "    t = input(\"title: \")\n",
    "    a = input(\"author: \")\n",
    "    g = input(\"genre: \")\n",
    "    D={\"title\": t, \"author\": a, \"genre\": g}\n",
    "    books.append(D)\n",
    "    print(books)\n",
    "\n"
   ]
  },
  {
   "cell_type": "code",
   "execution_count": null,
   "metadata": {
    "scrolled": true
   },
   "outputs": [],
   "source": [
    "\n",
    "while input(\"Do you want to check books in a genre, Y or N ? \") == \"Y\":\n",
    "    genre = input(\"please input a book genre: \")\n",
    "    for book in books:\n",
    "        if book[\"genre\"] == genre:\n",
    "            print(book)\n",
    "    if input(\"Do you want to continue, Y or N ? \") == \"Y\":\n",
    "        continue\n",
    "    else:\n",
    "        break"
   ]
  },
  {
   "cell_type": "code",
   "execution_count": null,
   "metadata": {},
   "outputs": [],
   "source": []
  },
  {
   "cell_type": "code",
   "execution_count": null,
   "metadata": {},
   "outputs": [],
   "source": []
  },
  {
   "cell_type": "code",
   "execution_count": null,
   "metadata": {},
   "outputs": [],
   "source": []
  },
  {
   "cell_type": "code",
   "execution_count": null,
   "metadata": {},
   "outputs": [],
   "source": []
  }
 ],
 "metadata": {
  "kernelspec": {
   "display_name": "Python 3",
   "language": "python",
   "name": "python3"
  },
  "language_info": {
   "codemirror_mode": {
    "name": "ipython",
    "version": 3
   },
   "file_extension": ".py",
   "mimetype": "text/x-python",
   "name": "python",
   "nbconvert_exporter": "python",
   "pygments_lexer": "ipython3",
   "version": "3.7.4"
  }
 },
 "nbformat": 4,
 "nbformat_minor": 2
}
