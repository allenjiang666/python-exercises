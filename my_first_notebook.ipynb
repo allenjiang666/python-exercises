{
 "cells": [
  {
   "cell_type": "markdown",
   "metadata": {},
   "source": [
    "# Hello, Curie\n",
    "-"
   ]
  },
  {
   "cell_type": "code",
   "execution_count": 77,
   "metadata": {},
   "outputs": [
    {
     "data": {
      "text/plain": [
       "1"
      ]
     },
     "execution_count": 77,
     "metadata": {},
     "output_type": "execute_result"
    }
   ],
   "source": [
    "def Fibonacci(n):\n",
    "    f = [0, 1]\n",
    "    i=2\n",
    "    while i <= n:\n",
    "        f.append(f[i-1] + f[i-2])\n",
    "        i += 1\n",
    "    return f[n]\n",
    "Fibonacci(2)"
   ]
  },
  {
   "cell_type": "code",
   "execution_count": 95,
   "metadata": {},
   "outputs": [
    {
     "data": {
      "text/plain": [
       "0"
      ]
     },
     "execution_count": 95,
     "metadata": {},
     "output_type": "execute_result"
    }
   ],
   "source": [
    "def Fprod(n):\n",
    "    f = [0, 1]\n",
    "    i = 2\n",
    "    while i <= n:\n",
    "        f.append(Fibonacci(i ) * Fibonacci(i + 1 ))\n",
    "        i += 1\n",
    "    return f[n]\n",
    "    \n",
    "Fprod(0)"
   ]
  },
  {
   "cell_type": "code",
   "execution_count": 98,
   "metadata": {},
   "outputs": [
    {
     "data": {
      "text/plain": [
       "[0, 1, True]"
      ]
     },
     "execution_count": 98,
     "metadata": {},
     "output_type": "execute_result"
    }
   ],
   "source": [
    "def productFib(prod):\n",
    "    i = 1\n",
    "    if prod == 0:\n",
    "        return [0, 1, True]\n",
    "    while True:\n",
    "        if Fprod(i -1 ) < prod and prod <= Fprod(i ):\n",
    "            return [Fibonacci(i), Fibonacci(i + 1), Fprod(i) == prod ]\n",
    "        i += 1\n",
    "\n",
    "productFib(0)"
   ]
  },
  {
   "cell_type": "code",
   "execution_count": null,
   "metadata": {},
   "outputs": [],
   "source": [
    "[55, 89, False] should equal [89, 144, False]"
   ]
  },
  {
   "cell_type": "code",
   "execution_count": 78,
   "metadata": {},
   "outputs": [
    {
     "data": {
      "text/plain": [
       "12816"
      ]
     },
     "execution_count": 78,
     "metadata": {},
     "output_type": "execute_result"
    }
   ],
   "source": [
    "89 *144"
   ]
  },
  {
   "cell_type": "code",
   "execution_count": null,
   "metadata": {},
   "outputs": [],
   "source": []
  }
 ],
 "metadata": {
  "kernelspec": {
   "display_name": "Python 3",
   "language": "python",
   "name": "python3"
  },
  "language_info": {
   "codemirror_mode": {
    "name": "ipython",
    "version": 3
   },
   "file_extension": ".py",
   "mimetype": "text/x-python",
   "name": "python",
   "nbconvert_exporter": "python",
   "pygments_lexer": "ipython3",
   "version": "3.7.4"
  }
 },
 "nbformat": 4,
 "nbformat_minor": 2
}
